{
 "cells": [
  {
   "cell_type": "code",
   "execution_count": 1,
   "id": "1c9e405e",
   "metadata": {},
   "outputs": [],
   "source": [
    "import os\n",
    "import numpy as np\n",
    "import tensorflow as tf\n",
    "from tensorflow import keras"
   ]
  },
  {
   "cell_type": "code",
   "execution_count": 2,
   "id": "9aae7e8b",
   "metadata": {},
   "outputs": [],
   "source": [
    "((train_images,train_labels),(test_images,test_labels))=tf.keras.datasets.mnist.load_data()"
   ]
  },
  {
   "cell_type": "code",
   "execution_count": 3,
   "id": "cb443c34",
   "metadata": {},
   "outputs": [
    {
     "data": {
      "text/plain": [
       "(60000, 28, 28)"
      ]
     },
     "execution_count": 3,
     "metadata": {},
     "output_type": "execute_result"
    }
   ],
   "source": [
    "train_images.shape"
   ]
  },
  {
   "cell_type": "code",
   "execution_count": 4,
   "id": "24581884",
   "metadata": {},
   "outputs": [
    {
     "data": {
      "text/plain": [
       "(10000, 28, 28)"
      ]
     },
     "execution_count": 4,
     "metadata": {},
     "output_type": "execute_result"
    }
   ],
   "source": [
    "test_images.shape"
   ]
  },
  {
   "cell_type": "code",
   "execution_count": 5,
   "id": "cd8459ee",
   "metadata": {},
   "outputs": [
    {
     "data": {
      "text/plain": [
       "0"
      ]
     },
     "execution_count": 5,
     "metadata": {},
     "output_type": "execute_result"
    }
   ],
   "source": [
    "np.min(train_images)"
   ]
  },
  {
   "cell_type": "code",
   "execution_count": 6,
   "id": "3d639767",
   "metadata": {},
   "outputs": [
    {
     "data": {
      "text/plain": [
       "255"
      ]
     },
     "execution_count": 6,
     "metadata": {},
     "output_type": "execute_result"
    }
   ],
   "source": [
    "np.max(train_images)"
   ]
  },
  {
   "cell_type": "code",
   "execution_count": 9,
   "id": "73b08ad1",
   "metadata": {},
   "outputs": [
    {
     "data": {
      "text/plain": [
       "0"
      ]
     },
     "execution_count": 9,
     "metadata": {},
     "output_type": "execute_result"
    }
   ],
   "source": [
    "np.min(test_images)"
   ]
  },
  {
   "cell_type": "code",
   "execution_count": 8,
   "id": "478d935a",
   "metadata": {},
   "outputs": [
    {
     "data": {
      "text/plain": [
       "255"
      ]
     },
     "execution_count": 8,
     "metadata": {},
     "output_type": "execute_result"
    }
   ],
   "source": [
    "np.max(test_images)"
   ]
  },
  {
   "cell_type": "code",
   "execution_count": 10,
   "id": "614b0fb0",
   "metadata": {},
   "outputs": [],
   "source": [
    "train_images=train_images.reshape(-1,28*28)/255.0\n",
    "test_images=test_images.reshape(-1,28*28)/255.0"
   ]
  },
  {
   "cell_type": "code",
   "execution_count": 11,
   "id": "deb32639",
   "metadata": {},
   "outputs": [
    {
     "data": {
      "text/plain": [
       "0.0"
      ]
     },
     "execution_count": 11,
     "metadata": {},
     "output_type": "execute_result"
    }
   ],
   "source": [
    "np.min(train_images)"
   ]
  },
  {
   "cell_type": "code",
   "execution_count": 12,
   "id": "9c14de5c",
   "metadata": {},
   "outputs": [
    {
     "data": {
      "text/plain": [
       "1.0"
      ]
     },
     "execution_count": 12,
     "metadata": {},
     "output_type": "execute_result"
    }
   ],
   "source": [
    "np.max(train_images)"
   ]
  },
  {
   "cell_type": "code",
   "execution_count": 13,
   "id": "c18e9315",
   "metadata": {},
   "outputs": [
    {
     "data": {
      "text/plain": [
       "0.0"
      ]
     },
     "execution_count": 13,
     "metadata": {},
     "output_type": "execute_result"
    }
   ],
   "source": [
    "np.min(test_images)"
   ]
  },
  {
   "cell_type": "code",
   "execution_count": 14,
   "id": "9096523f",
   "metadata": {},
   "outputs": [
    {
     "data": {
      "text/plain": [
       "1.0"
      ]
     },
     "execution_count": 14,
     "metadata": {},
     "output_type": "execute_result"
    }
   ],
   "source": [
    "np.max(test_images)"
   ]
  },
  {
   "cell_type": "code",
   "execution_count": 23,
   "id": "e0eb9ac3",
   "metadata": {},
   "outputs": [],
   "source": [
    "model = tf.keras.models.Sequential([\n",
    "    keras.layers.Dense(512, activation = \"relu\",\n",
    "    input_shape=(7814,)),\n",
    "    keras.layers.Dropout(0.2),\n",
    "    keras.layers.Dense(10)\n",
    "])"
   ]
  },
  {
   "cell_type": "code",
   "execution_count": 24,
   "id": "9a003ddd",
   "metadata": {},
   "outputs": [],
   "source": [
    "model.compile(optimizer= \"adam\",\n",
    "             loss = tf.losses.SparseCategoricalCrossentropy(from_logits=True),\n",
    "             metrics = [tf.metrics.SparseCategoricalAccuracy()])"
   ]
  },
  {
   "cell_type": "code",
   "execution_count": 17,
   "id": "6dbdd7cd",
   "metadata": {},
   "outputs": [
    {
     "name": "stdout",
     "output_type": "stream",
     "text": [
      "Model: \"sequential\"\n",
      "_________________________________________________________________\n",
      " Layer (type)                Output Shape              Param #   \n",
      "=================================================================\n",
      " dense (Dense)               (None, 512)               4001280   \n",
      "                                                                 \n",
      " dropout (Dropout)           (None, 512)               0         \n",
      "                                                                 \n",
      " dense_1 (Dense)             (None, 10)                5130      \n",
      "                                                                 \n",
      "=================================================================\n",
      "Total params: 4,006,410\n",
      "Trainable params: 4,006,410\n",
      "Non-trainable params: 0\n",
      "_________________________________________________________________\n"
     ]
    }
   ],
   "source": [
    "model.summary()"
   ]
  },
  {
   "cell_type": "code",
   "execution_count": 25,
   "id": "d55b1c6c",
   "metadata": {},
   "outputs": [
    {
     "name": "stdout",
     "output_type": "stream",
     "text": [
      "Epoch 1/5\n"
     ]
    },
    {
     "ename": "ValueError",
     "evalue": "in user code:\n\n    File \"C:\\Users\\Subhash Prasad\\AppData\\Roaming\\Python\\Python310\\site-packages\\keras\\engine\\training.py\", line 1249, in train_function  *\n        return step_function(self, iterator)\n    File \"C:\\Users\\Subhash Prasad\\AppData\\Roaming\\Python\\Python310\\site-packages\\keras\\engine\\training.py\", line 1233, in step_function  **\n        outputs = model.distribute_strategy.run(run_step, args=(data,))\n    File \"C:\\Users\\Subhash Prasad\\AppData\\Roaming\\Python\\Python310\\site-packages\\keras\\engine\\training.py\", line 1222, in run_step  **\n        outputs = model.train_step(data)\n    File \"C:\\Users\\Subhash Prasad\\AppData\\Roaming\\Python\\Python310\\site-packages\\keras\\engine\\training.py\", line 1023, in train_step\n        y_pred = self(x, training=True)\n    File \"C:\\Users\\Subhash Prasad\\AppData\\Roaming\\Python\\Python310\\site-packages\\keras\\utils\\traceback_utils.py\", line 70, in error_handler\n        raise e.with_traceback(filtered_tb) from None\n    File \"C:\\Users\\Subhash Prasad\\AppData\\Roaming\\Python\\Python310\\site-packages\\keras\\engine\\input_spec.py\", line 295, in assert_input_compatibility\n        raise ValueError(\n\n    ValueError: Input 0 of layer \"sequential_2\" is incompatible with the layer: expected shape=(None, 7814), found shape=(32, 784)\n",
     "output_type": "error",
     "traceback": [
      "\u001b[1;31m---------------------------------------------------------------------------\u001b[0m",
      "\u001b[1;31mValueError\u001b[0m                                Traceback (most recent call last)",
      "Input \u001b[1;32mIn [25]\u001b[0m, in \u001b[0;36m<cell line: 1>\u001b[1;34m()\u001b[0m\n\u001b[1;32m----> 1\u001b[0m \u001b[43mmodel\u001b[49m\u001b[38;5;241;43m.\u001b[39;49m\u001b[43mfit\u001b[49m\u001b[43m(\u001b[49m\u001b[43mtrain_images\u001b[49m\u001b[43m,\u001b[49m\u001b[43mtrain_labels\u001b[49m\u001b[43m,\u001b[49m\u001b[43mepochs\u001b[49m\u001b[43m \u001b[49m\u001b[38;5;241;43m=\u001b[39;49m\u001b[43m \u001b[49m\u001b[38;5;241;43m5\u001b[39;49m\u001b[43m)\u001b[49m\n",
      "File \u001b[1;32m~\\AppData\\Roaming\\Python\\Python310\\site-packages\\keras\\utils\\traceback_utils.py:70\u001b[0m, in \u001b[0;36mfilter_traceback.<locals>.error_handler\u001b[1;34m(*args, **kwargs)\u001b[0m\n\u001b[0;32m     67\u001b[0m     filtered_tb \u001b[38;5;241m=\u001b[39m _process_traceback_frames(e\u001b[38;5;241m.\u001b[39m__traceback__)\n\u001b[0;32m     68\u001b[0m     \u001b[38;5;66;03m# To get the full stack trace, call:\u001b[39;00m\n\u001b[0;32m     69\u001b[0m     \u001b[38;5;66;03m# `tf.debugging.disable_traceback_filtering()`\u001b[39;00m\n\u001b[1;32m---> 70\u001b[0m     \u001b[38;5;28;01mraise\u001b[39;00m e\u001b[38;5;241m.\u001b[39mwith_traceback(filtered_tb) \u001b[38;5;28;01mfrom\u001b[39;00m \u001b[38;5;28mNone\u001b[39m\n\u001b[0;32m     71\u001b[0m \u001b[38;5;28;01mfinally\u001b[39;00m:\n\u001b[0;32m     72\u001b[0m     \u001b[38;5;28;01mdel\u001b[39;00m filtered_tb\n",
      "File \u001b[1;32mC:\\Users\\SUBHAS~1\\AppData\\Local\\Temp\\__autograph_generated_filenft7156t.py:15\u001b[0m, in \u001b[0;36mouter_factory.<locals>.inner_factory.<locals>.tf__train_function\u001b[1;34m(iterator)\u001b[0m\n\u001b[0;32m     13\u001b[0m \u001b[38;5;28;01mtry\u001b[39;00m:\n\u001b[0;32m     14\u001b[0m     do_return \u001b[38;5;241m=\u001b[39m \u001b[38;5;28;01mTrue\u001b[39;00m\n\u001b[1;32m---> 15\u001b[0m     retval_ \u001b[38;5;241m=\u001b[39m ag__\u001b[38;5;241m.\u001b[39mconverted_call(ag__\u001b[38;5;241m.\u001b[39mld(step_function), (ag__\u001b[38;5;241m.\u001b[39mld(\u001b[38;5;28mself\u001b[39m), ag__\u001b[38;5;241m.\u001b[39mld(iterator)), \u001b[38;5;28;01mNone\u001b[39;00m, fscope)\n\u001b[0;32m     16\u001b[0m \u001b[38;5;28;01mexcept\u001b[39;00m:\n\u001b[0;32m     17\u001b[0m     do_return \u001b[38;5;241m=\u001b[39m \u001b[38;5;28;01mFalse\u001b[39;00m\n",
      "\u001b[1;31mValueError\u001b[0m: in user code:\n\n    File \"C:\\Users\\Subhash Prasad\\AppData\\Roaming\\Python\\Python310\\site-packages\\keras\\engine\\training.py\", line 1249, in train_function  *\n        return step_function(self, iterator)\n    File \"C:\\Users\\Subhash Prasad\\AppData\\Roaming\\Python\\Python310\\site-packages\\keras\\engine\\training.py\", line 1233, in step_function  **\n        outputs = model.distribute_strategy.run(run_step, args=(data,))\n    File \"C:\\Users\\Subhash Prasad\\AppData\\Roaming\\Python\\Python310\\site-packages\\keras\\engine\\training.py\", line 1222, in run_step  **\n        outputs = model.train_step(data)\n    File \"C:\\Users\\Subhash Prasad\\AppData\\Roaming\\Python\\Python310\\site-packages\\keras\\engine\\training.py\", line 1023, in train_step\n        y_pred = self(x, training=True)\n    File \"C:\\Users\\Subhash Prasad\\AppData\\Roaming\\Python\\Python310\\site-packages\\keras\\utils\\traceback_utils.py\", line 70, in error_handler\n        raise e.with_traceback(filtered_tb) from None\n    File \"C:\\Users\\Subhash Prasad\\AppData\\Roaming\\Python\\Python310\\site-packages\\keras\\engine\\input_spec.py\", line 295, in assert_input_compatibility\n        raise ValueError(\n\n    ValueError: Input 0 of layer \"sequential_2\" is incompatible with the layer: expected shape=(None, 7814), found shape=(32, 784)\n"
     ]
    }
   ],
   "source": [
    "model.fit(train_images,train_labels,epochs = 5)"
   ]
  },
  {
   "cell_type": "code",
   "execution_count": null,
   "id": "2e77d7ee",
   "metadata": {},
   "outputs": [],
   "source": [
    "model.save(\"model.h5\")"
   ]
  },
  {
   "cell_type": "code",
   "execution_count": null,
   "id": "34a7a024",
   "metadata": {},
   "outputs": [],
   "source": []
  },
  {
   "cell_type": "code",
   "execution_count": null,
   "id": "bb3ee333",
   "metadata": {},
   "outputs": [],
   "source": [
    "model_new=tf.keras.models.load_model(\"model.h5\")"
   ]
  },
  {
   "cell_type": "code",
   "execution_count": null,
   "id": "10c82e64",
   "metadata": {},
   "outputs": [],
   "source": [
    "model_new.summary()"
   ]
  },
  {
   "cell_type": "code",
   "execution_count": null,
   "id": "35566e31",
   "metadata": {},
   "outputs": [],
   "source": []
  },
  {
   "cell_type": "markdown",
   "id": "9654d3bd",
   "metadata": {},
   "source": []
  },
  {
   "cell_type": "code",
   "execution_count": null,
   "id": "5d6d65b5",
   "metadata": {},
   "outputs": [],
   "source": [
    "import cv2\n",
    "import numpy as np\n",
    "from tensorflow.keras.models import load_model\n",
    "# Create a VideoCapture object\n",
    "capture = cv2.VideoCapture(0)\n",
    "\n",
    "# Set the width and height of the capture\n",
    "capture.set(cv2.CAP_PROP_FRAME_WIDTH, 640)\n",
    "capture.set(cv2.CAP_PROP_FRAME_HEIGHT, 480)\n",
    "\n",
    "# Load the cascades\n",
    "face_cascade = cv2.CascadeClassifier('haarcascade_frontalface_default.xml')\n",
    "\n",
    "# Load the machine learning model\n",
    "model = load_model(\"C:\\\\Users\\\\Subhash Prasad\\\\AppData\\\\Local\\\\Programs\\\\Python\\\\Python310\\\\Scripts\\\\Data_Science Folder\\\\model.h5\")\n",
    "\n",
    "# Create a dictionary to store the information for each face\n",
    "face_info = {}\n",
    "\n",
    "# Loop indefinitely\n",
    "while True:\n",
    "    # Capture a frame from the webcam\n",
    "    ret, frame = capture.read()\n",
    "    \n",
    "    # Check if the frame was successfully captured\n",
    "    if not ret:\n",
    "        break\n",
    "    \n",
    "    # Convert the frame to grayscale\n",
    "    gray = cv2.cvtColor(frame, cv2.COLOR_BGR2GRAY)\n",
    "    \n",
    "    # Detect faces in the frame\n",
    "    faces = face_cascade.detectMultiScale(gray, 1.1, 4)\n",
    "    \n",
    "    # Iterate over the faces\n",
    "    for (x, y, w, h) in faces:\n",
    "        # Extract the face from the frame\n",
    "        face = frame[y:y+h, x:x+w]\n",
    "        \n",
    "        # Resize the face to the input size of the model\n",
    "        face = cv2.resize(face, (48, 48))\n",
    "        \n",
    "        # Predict the features of the face using the model\n",
    "        features = model.predict(face.reshape(1,48,48,1))\n",
    "        \n",
    "        # Extract the gender, age, and facial expression from the features\n",
    "        gender = features[0]\n",
    "        age = features[1]\n",
    "        expression = features[2]\n",
    "        \n",
    "        # Check if the face is not already in the dictionary\n",
    "        if (x, y, w, h) not in face_info:\n",
    "            # Prompt the user for the name of the person\n",
    "            name = input('Enter the name of the person: ')\n",
    "            \n",
    "            # Store the information in the dictionary\n",
    "            face_info[(x, y, w, h)] = {\n",
    "                'name': name,\n",
    "                'gender': gender,\n",
    "                'age': age,\n",
    "                'expression': expression\n",
    "            }\n",
    "    \n",
    "    # Display the frame\n",
    "    cv2.imshow('Webcam', frame)\n",
    "    \n",
    "    # Check if the user pressed 'q' to quit\n",
    "    if cv2.waitKey(1) == ord('q'):\n",
    "        break\n",
    "\n",
    "# Release the VideoCapture object\n",
    "capture.release()\n",
    "\n",
    "# Close all windows\n",
    "cv2.destroyAllWindows()"
   ]
  },
  {
   "cell_type": "code",
   "execution_count": null,
   "id": "3ecfba7a",
   "metadata": {},
   "outputs": [],
   "source": []
  },
  {
   "cell_type": "code",
   "execution_count": null,
   "id": "20077e6a",
   "metadata": {},
   "outputs": [],
   "source": []
  },
  {
   "cell_type": "code",
   "execution_count": null,
   "id": "3eb1b67e",
   "metadata": {},
   "outputs": [],
   "source": []
  },
  {
   "cell_type": "code",
   "execution_count": null,
   "id": "5b912434",
   "metadata": {},
   "outputs": [],
   "source": []
  },
  {
   "cell_type": "code",
   "execution_count": null,
   "id": "a0e4644e",
   "metadata": {},
   "outputs": [],
   "source": []
  },
  {
   "cell_type": "code",
   "execution_count": null,
   "id": "29d3401e",
   "metadata": {},
   "outputs": [],
   "source": [
    "class dataset:\n",
    "    @staticmethod\n",
    "    def add_person(name,age):\n",
    "        print(\"adding person with name: {} and age: {}\".format(name,age))\n",
    "        \n",
    "        "
   ]
  },
  {
   "cell_type": "code",
   "execution_count": null,
   "id": "a3d38335",
   "metadata": {},
   "outputs": [],
   "source": [
    "import cv2\n",
    "\n",
    "# Load the face detection model\n",
    "face_detection_model = cv2.CascadeClassifier('haarcascade_frontalface_default.xml')\n",
    "\n",
    "# Read the image\n",
    "image = cv2.imread(\"C:\\\\Users\\\\Subhash Prasad\\\\Desktop\\\\Image collection\\\\dataset collection2.jpg\")\n",
    "\n",
    "# Convert the image to grayscale (gray-scale images are easier to detect faces in)\n",
    "gray_image = cv2.cvtColor(image, cv2.COLOR_BGR2GRAY)\n",
    "\n",
    "# Detect faces in the image\n",
    "faces = face_detection_model.detectMultiScale(gray_image)\n",
    "\n",
    "# Loop through the faces and draw a rectangle around each one\n",
    "for (x, y, w, h) in faces:\n",
    "    cv2.rectangle(image, (x, y), (x+w, y+h), (255, 0, 0), 2)\n",
    "\n",
    "# Save the image with the face rectangle\n",
    "cv2.imwrite(\"C:\\\\Users\\\\Subhash Prasad\\\\Desktop\\\\Image collection\\\\dataset collection2.jpg\", image)\n",
    "\n",
    "# Get the person's information from the user\n",
    "name = input('Enter the name of the person in the image: ')\n",
    "age = input('Enter the age of the person in the image: ')\n",
    "\n",
    "# Save the person's information to the dataset\n",
    "dataset.add_person(name=name, age=age)\n"
   ]
  },
  {
   "cell_type": "code",
   "execution_count": null,
   "id": "dc180d70",
   "metadata": {},
   "outputs": [],
   "source": []
  },
  {
   "cell_type": "code",
   "execution_count": 33,
   "id": "1eaac985",
   "metadata": {},
   "outputs": [
    {
     "ename": "NameError",
     "evalue": "name 'python3' is not defined",
     "output_type": "error",
     "traceback": [
      "\u001b[1;31m---------------------------------------------------------------------------\u001b[0m",
      "\u001b[1;31mNameError\u001b[0m                                 Traceback (most recent call last)",
      "Input \u001b[1;32mIn [33]\u001b[0m, in \u001b[0;36m<cell line: 1>\u001b[1;34m()\u001b[0m\n\u001b[1;32m----> 1\u001b[0m \u001b[43mpython3\u001b[49m \u001b[38;5;241m-\u001b[39m\u001b[38;5;241m-\u001b[39mversion\n",
      "\u001b[1;31mNameError\u001b[0m: name 'python3' is not defined"
     ]
    }
   ],
   "source": []
  },
  {
   "cell_type": "markdown",
   "id": "6d661477",
   "metadata": {},
   "source": [
    "# code..........."
   ]
  },
  {
   "cell_type": "code",
   "execution_count": 2,
   "id": "42c81740",
   "metadata": {},
   "outputs": [],
   "source": [
    "import mysql.connector\n",
    "class dataset:\n",
    "    @staticmethod\n",
    "    def add_person(name,age):\n",
    "        print(\"adding person with name: {} and age: {}\".format(name,age))\n",
    "        try:\n",
    "            mydb=mysql.connector.connect(host=\"localhost\",user=\"root\",password=\"root\",database=\"dataCollection\")\n",
    "            cursor = mydb.cursor()\n",
    "            query=\"Insert into personinfo(name,age) values({},{})\".format(name,age)\n",
    "            cursor.execute(query)\n",
    "            mydb.commit()\n",
    "            mydb.close()\n",
    "        except Exception as e:\n",
    "            print(e)\n",
    "            \n",
    "        "
   ]
  },
  {
   "cell_type": "code",
   "execution_count": null,
   "id": "8832243b",
   "metadata": {},
   "outputs": [],
   "source": [
    "mydb=mysql.connector.connect(host=\"localhost\",user=\"root\",password=\"root\",database=\"dataCollection\")\n",
    "cursor = mydb.cursor()\n",
    "query=\"Select * from personinfo\"\n",
    "cursor.execute(query)\n"
   ]
  },
  {
   "cell_type": "code",
   "execution_count": 3,
   "id": "845948cf",
   "metadata": {},
   "outputs": [
    {
     "name": "stdout",
     "output_type": "stream",
     "text": [
      "Enter the name of the person in the image: q\n",
      "Enter the age of the person in the image: 24\n",
      "adding person with name: q and age: 24\n",
      "1054 (42S22): Unknown column 'q' in 'field list'\n"
     ]
    }
   ],
   "source": [
    "import cv2\n",
    "\n",
    "# Load the face detection model\n",
    "face_detection_model = cv2.CascadeClassifier('haarcascade_frontalface_default.xml')\n",
    "\n",
    "# Open the webcam\n",
    "cap = cv2.VideoCapture(0)\n",
    "\n",
    "while True:\n",
    "    # Read a frame from the webcam\n",
    "    _, frame = cap.read()\n",
    "\n",
    "    # Convert the frame to grayscale (gray-scale images are easier to detect faces in)\n",
    "    gray_frame = cv2.cvtColor(frame, cv2.COLOR_BGR2GRAY)\n",
    "\n",
    "    # Detect faces in the frame\n",
    "    faces = face_detection_model.detectMultiScale(gray_frame)\n",
    "\n",
    "    # Loop through the faces and draw a rectangle around each one\n",
    "    for (x, y, w, h) in faces:\n",
    "        cv2.rectangle(frame, (x, y), (x+w, y+h), (255, 0, 0), 2)\n",
    "\n",
    "    # Show the frame with the face rectangle\n",
    "    cv2.imshow('Frame', frame)\n",
    "\n",
    "    # Wait for the user to press a key\n",
    "    key = cv2.waitKey(1)\n",
    "\n",
    "    # If the user pressed 's', save the current frame and the person's information\n",
    "    if key == ord('s'):\n",
    "        # Save the frame to an image file\n",
    "        cv2.imwrite(\"C:\\\\Users\\\\Subhash Prasad\\\\Desktop\\\\Image collection\\\\dataset collection.jpg\", frame)\n",
    "\n",
    "        # Get the person's information from the user\n",
    "        name = input('Enter the name of the person in the image: ')\n",
    "        age = input('Enter the age of the person in the image: ')\n",
    "        \n",
    "\n",
    "        # Save the person's information to the dataset\n",
    "        dataset.add_person(name=name, age=age)\n",
    "    \n",
    "    # If the user pressed 'q', quit the loop\n",
    "    if key == ord('q'):\n",
    "        break\n",
    "\n",
    "# Release the webcam\n",
    "cap.release()\n",
    "\n",
    "# Destroy all windows\n",
    "cv2.destroyAllWindows()\n"
   ]
  },
  {
   "cell_type": "code",
   "execution_count": null,
   "id": "89692d7a",
   "metadata": {},
   "outputs": [],
   "source": []
  },
  {
   "cell_type": "code",
   "execution_count": null,
   "id": "2735ab44",
   "metadata": {},
   "outputs": [],
   "source": []
  },
  {
   "cell_type": "code",
   "execution_count": null,
   "id": "6c4f9d21",
   "metadata": {},
   "outputs": [],
   "source": [
    "import sqlite3\n",
    "\n",
    "# Connect to the database\n",
    "conn = sqlite3.connect('database.db')\n",
    "\n",
    "# Create a cursor\n",
    "cursor = conn.cursor()\n",
    "\n",
    "# Create a table to store the data\n",
    "cursor.execute(\"Create Table dataset(name varchar(50),age int(50))\")\n",
    "\n",
    "# Add a person to the table\n",
    "def add_person(name, age):\n",
    "    cursor.execute('INSERT INTO people (name, age) VALUES (\"kavi\", 24)', (name, age))\n",
    "    conn.commit()\n"
   ]
  },
  {
   "cell_type": "code",
   "execution_count": null,
   "id": "91e8d3a7",
   "metadata": {},
   "outputs": [],
   "source": [
    "import mysql.connector\n",
    "mydb=mysql.connector.connect(host=\"localhost\",user=\"root\",password=\"root\",database=\"teste\")\n",
    "mycursor=mydb.cursor()\n",
    "mycursor.execute(\"select * from people\")\n",
    "for i in mycursor:\n",
    "    print(i)"
   ]
  },
  {
   "cell_type": "code",
   "execution_count": 29,
   "id": "2af0c6b1",
   "metadata": {},
   "outputs": [
    {
     "name": "stdout",
     "output_type": "stream",
     "text": [
      "('class',)\n",
      "('company',)\n",
      "('datacollection',)\n",
      "('dbms-schem',)\n",
      "('employ',)\n",
      "('hotel',)\n",
      "('information_schema',)\n",
      "('kpop',)\n",
      "('log',)\n",
      "('mysql',)\n",
      "('pdb',)\n",
      "('performance_schema',)\n",
      "('student',)\n",
      "('sys',)\n",
      "('testdb',)\n",
      "('teste',)\n",
      "('wordpress',)\n"
     ]
    }
   ],
   "source": [
    "import mysql.connector\n",
    "mydb=mysql.connector.connect(host=\"localhost\",user=\"root\",password=\"root\")\n",
    "mycursor=mydb.cursor()\n",
    "mycursor.execute(\"show databases\")\n",
    "for i in mycursor:\n",
    "    print(i)"
   ]
  },
  {
   "cell_type": "code",
   "execution_count": 10,
   "id": "30d5177b",
   "metadata": {},
   "outputs": [
    {
     "name": "stdout",
     "output_type": "stream",
     "text": [
      "info\n"
     ]
    },
    {
     "ename": "TypeError",
     "evalue": "object of type 'CMySQLCursor' has no len()",
     "output_type": "error",
     "traceback": [
      "\u001b[1;31m---------------------------------------------------------------------------\u001b[0m",
      "\u001b[1;31mTypeError\u001b[0m                                 Traceback (most recent call last)",
      "Input \u001b[1;32mIn [10]\u001b[0m, in \u001b[0;36m<cell line: 6>\u001b[1;34m()\u001b[0m\n\u001b[0;32m      4\u001b[0m mycursor\u001b[38;5;241m.\u001b[39mexecute(\u001b[38;5;124m\"\u001b[39m\u001b[38;5;124mselect * from personinfo\u001b[39m\u001b[38;5;124m\"\u001b[39m)\n\u001b[0;32m      5\u001b[0m \u001b[38;5;28mprint\u001b[39m(\u001b[38;5;124m'\u001b[39m\u001b[38;5;124minfo\u001b[39m\u001b[38;5;124m'\u001b[39m)\n\u001b[1;32m----> 6\u001b[0m \u001b[38;5;28mprint\u001b[39m(\u001b[38;5;28;43mlen\u001b[39;49m\u001b[43m(\u001b[49m\u001b[43mmycursor\u001b[49m\u001b[43m)\u001b[49m)\n\u001b[0;32m      7\u001b[0m \u001b[38;5;28;01mfor\u001b[39;00m i \u001b[38;5;129;01min\u001b[39;00m mycursor:\n\u001b[0;32m      8\u001b[0m     \u001b[38;5;28mprint\u001b[39m(\u001b[38;5;124m'\u001b[39m\u001b[38;5;124minfo\u001b[39m\u001b[38;5;124m'\u001b[39m)\n",
      "\u001b[1;31mTypeError\u001b[0m: object of type 'CMySQLCursor' has no len()"
     ]
    }
   ],
   "source": [
    "import mysql.connector\n",
    "mydb=mysql.connector.connect(host=\"localhost\",user=\"root\",password=\"root\",database=\"dataCollection\")\n",
    "mycursor=mydb.cursor()\n",
    "mycursor.execute(\"select * from personinfo\")\n",
    "print('info')\n",
    "print(len(mycursor))\n",
    "for i in mycursor:\n",
    "    print('info')\n",
    "    print(\"data is: \"+i)"
   ]
  },
  {
   "cell_type": "markdown",
   "id": "75a98197",
   "metadata": {},
   "source": [
    "create database"
   ]
  },
  {
   "cell_type": "code",
   "execution_count": null,
   "id": "7e61a29b",
   "metadata": {},
   "outputs": [],
   "source": [
    "import mysql.connector\n",
    "mydb=mysql.connector.connect(host=\"localhost\",user=\"root\",password=\"root\")\n",
    "sql=\"Create Database teste\"\n",
    "myc=mydb.cursor()\n",
    "myc.execute(sql)\n",
    "# mycursor=mydb.cursor()\n",
    "# mycursor.execute(\"select * from artist\")\n"
   ]
  },
  {
   "cell_type": "markdown",
   "id": "07e700f7",
   "metadata": {},
   "source": [
    "create table"
   ]
  },
  {
   "cell_type": "code",
   "execution_count": 31,
   "id": "dfacc103",
   "metadata": {},
   "outputs": [],
   "source": [
    "import mysql.connector\n",
    "mydb=mysql.connector.connect(host=\"localhost\",user=\"root\",password=\"root\",database=\"dataCollection\")\n",
    "sql=\"Create Table personinfo(name varchar(50),age int(50),id int PRIMARY KEY AUTO_INCREMENT)\"\n",
    "myc=mydb.cursor()\n",
    "myc.execute(sql)\n",
    "myc.close()\n",
    "mydb.close()"
   ]
  },
  {
   "cell_type": "markdown",
   "id": "9eaf56a6",
   "metadata": {},
   "source": [
    "show table"
   ]
  },
  {
   "cell_type": "code",
   "execution_count": null,
   "id": "599fffbb",
   "metadata": {},
   "outputs": [],
   "source": [
    "import mysql.connector\n",
    "mydb=mysql.connector.connect(host=\"localhost\",user=\"root\",password=\"root\",database=\"teste\")\n",
    "sql1=\"show tables\"\n",
    "myc=mydb.cursor()\n",
    "myc.execute(sql1)\n",
    "for t in myc:\n",
    "    print(t)\n",
    "# myc.close()\n",
    "# mydb.close()"
   ]
  },
  {
   "cell_type": "code",
   "execution_count": null,
   "id": "41c2be37",
   "metadata": {},
   "outputs": [],
   "source": [
    "import mysql.connector\n",
    "mydb=mysql.connector.connect(host=\"localhost\",user=\"root\",password=\"root\",database=\"teste\")\n",
    "sql1=\"show tables\"\n",
    "myc=mydb.cursor()\n",
    "myc.execute(sql1)\n",
    "for t in myc:\n",
    "    print(t)\n",
    "# myc.close()\n",
    "# mydb.close()"
   ]
  },
  {
   "cell_type": "markdown",
   "id": "7178b51b",
   "metadata": {},
   "source": [
    "# create two options"
   ]
  },
  {
   "cell_type": "code",
   "execution_count": 5,
   "id": "42dbec5e",
   "metadata": {},
   "outputs": [],
   "source": [
    "import tkinter.filedialog"
   ]
  },
  {
   "cell_type": "code",
   "execution_count": 9,
   "id": "291b19cd",
   "metadata": {},
   "outputs": [
    {
     "name": "stderr",
     "output_type": "stream",
     "text": [
      "Exception in Tkinter callback\n",
      "Traceback (most recent call last):\n",
      "  File \"C:\\Users\\Subhash Prasad\\AppData\\Local\\Programs\\Python\\Python310\\lib\\tkinter\\__init__.py\", line 1921, in __call__\n",
      "    return self.func(*args)\n",
      "  File \"C:\\Users\\Subhash Prasad\\AppData\\Local\\Temp\\ipykernel_1584\\216525531.py\", line 12, in select_image\n",
      "    if check_if_person_info_available(image):\n",
      "NameError: name 'check_if_person_info_available' is not defined\n",
      "Exception in Tkinter callback\n",
      "Traceback (most recent call last):\n",
      "  File \"C:\\Users\\Subhash Prasad\\AppData\\Local\\Programs\\Python\\Python310\\lib\\tkinter\\__init__.py\", line 1921, in __call__\n",
      "    return self.func(*args)\n",
      "  File \"C:\\Users\\Subhash Prasad\\AppData\\Local\\Temp\\ipykernel_1584\\216525531.py\", line 28, in take_picture\n",
      "    if check_if_person_info_available(image):\n",
      "NameError: name 'check_if_person_info_available' is not defined\n"
     ]
    }
   ],
   "source": [
    "import tkinter as tk\n",
    "import cv2\n",
    "from tkinter import filedialog as fd \n",
    "\n",
    "# Create a function to select an image file from the computer\n",
    "def select_image():\n",
    "  # Open a file picker dialog to select an image file\n",
    "  file_path = fd.askopenfilename()\n",
    "  # Load the selected image file\n",
    "  image = cv2.imread(file_path)\n",
    "  # Check if the person's information is available in the dataset\n",
    "  if check_if_person_info_available(image):\n",
    "    # Display the person's information\n",
    "    display_person_info(image)\n",
    "  else:\n",
    "    # Display a message that the person's information is not available\n",
    "    tk.Label(text=\"Person's information not available.\").pack()\n",
    "\n",
    "# Create a function to take a picture using the webcam\n",
    "def take_picture():\n",
    "  # Initialize the webcam\n",
    "  webcam = cv2.VideoCapture(0)\n",
    "  # Take a picture\n",
    "  _, image = webcam.read()\n",
    "  # Release the webcam\n",
    "  webcam.release()\n",
    "  # Check if the person's information is available in the dataset\n",
    "  if check_if_person_info_available(image):\n",
    "    # Display the person's information\n",
    "    display_person_info(image)\n",
    "  else:\n",
    "    # Display a message that the person's information is not available\n",
    "    tk.Label(text=\"Person's information not available.\").pack()\n",
    "\n",
    "# Create the main window\n",
    "window = tk.Tk()\n",
    "window.title(\"Image Selection\")\n",
    "\n",
    "# Create the \"Select Image\" button\n",
    "select_image_button = tk.Button(text=\"Select Image\", command=select_image)\n",
    "select_image_button.pack(fill=tk.X)\n",
    "\n",
    "# Create the \"Take Picture\" button\n",
    "take_picture_button = tk.Button(text=\"Take Picture\", command=take_picture)\n",
    "take_picture_button.pack()\n",
    "\n",
    "# Run the main loop\n",
    "window.mainloop()\n"
   ]
  },
  {
   "cell_type": "code",
   "execution_count": 8,
   "id": "63ff072c",
   "metadata": {},
   "outputs": [],
   "source": []
  },
  {
   "cell_type": "code",
   "execution_count": null,
   "id": "4164f842",
   "metadata": {},
   "outputs": [],
   "source": []
  }
 ],
 "metadata": {
  "kernelspec": {
   "display_name": "Python 3 (ipykernel)",
   "language": "python",
   "name": "python3"
  },
  "language_info": {
   "codemirror_mode": {
    "name": "ipython",
    "version": 3
   },
   "file_extension": ".py",
   "mimetype": "text/x-python",
   "name": "python",
   "nbconvert_exporter": "python",
   "pygments_lexer": "ipython3",
   "version": "3.10.4"
  }
 },
 "nbformat": 4,
 "nbformat_minor": 5
}
